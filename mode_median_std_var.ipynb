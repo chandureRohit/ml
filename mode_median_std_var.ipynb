{
  "nbformat": 4,
  "nbformat_minor": 0,
  "metadata": {
    "colab": {
      "provenance": []
    },
    "kernelspec": {
      "name": "python3",
      "display_name": "Python 3"
    },
    "language_info": {
      "name": "python"
    }
  },
  "cells": [
    {
      "cell_type": "code",
      "execution_count": 3,
      "metadata": {
        "colab": {
          "base_uri": "https://localhost:8080/"
        },
        "id": "IqtghJr9Gmvr",
        "outputId": "83e3480f-e796-47c0-c8d4-56601d1a1dff"
      },
      "outputs": [
        {
          "output_type": "stream",
          "name": "stdout",
          "text": [
            "The median of the given numbers  ( [2, 2, 3, 4, 5, 7] ) is 3.5\n"
          ]
        }
      ],
      "source": [
        "# median\n",
        "numb = [2,3,4,5,7,2]\n",
        "no = len(numb)\n",
        "numb.sort()\n",
        "if no % 2 == 0:\n",
        "    median1 = numb[no//2]\n",
        "    median2 = numb[no//2 - 1]\n",
        "    median = (median1 + median2)/2\n",
        "else:\n",
        "    median = numb[no//2]\n",
        "print(\"The median of the given numbers  (\", numb, \") is\", str(median))"
      ]
    },
    {
      "cell_type": "code",
      "source": [
        "# mode\n",
        "from collections import Counter\n",
        "numb = [2, 3, 4, 5, 7, 2]\n",
        "no = len(numb)\n",
        "val = Counter(numb)\n",
        "findMode = dict(val)\n",
        "mode = [i for i, v in findMode.items() if v == max(list(val.values()))]  \n",
        "if len(mode) == no:\n",
        "    findMode = \"The group of number do not have any mode\"\n",
        "else:\n",
        "    findMode = \"The mode of a number is / are: \" + ', '.join(map(str, mode))\n",
        "print(findMode)"
      ],
      "metadata": {
        "colab": {
          "base_uri": "https://localhost:8080/"
        },
        "id": "0dX6q09XHb7o",
        "outputId": "43e35a0f-2ba4-40ec-d110-a812bcb344a3"
      },
      "execution_count": 8,
      "outputs": [
        {
          "output_type": "stream",
          "name": "stdout",
          "text": [
            "The mode of a number is / are: 2\n"
          ]
        }
      ]
    },
    {
      "cell_type": "code",
      "source": [
        "# variance\n",
        "\n",
        "# Importing the NumPy module\n",
        "import numpy as np\n",
        "\n",
        "# Taking a list of elements\n",
        "list = [2,3,4,5,7,2]\n",
        "\n",
        "# Calculating variance using var()\n",
        "print(np.var(list))\n"
      ],
      "metadata": {
        "colab": {
          "base_uri": "https://localhost:8080/"
        },
        "id": "KLtisHtPIZB8",
        "outputId": "de1df6a8-036a-4328-f378-0a9c0341ea3a"
      },
      "execution_count": 9,
      "outputs": [
        {
          "output_type": "stream",
          "name": "stdout",
          "text": [
            "3.138888888888889\n"
          ]
        }
      ]
    },
    {
      "cell_type": "code",
      "source": [
        "# deviation\n",
        "# Importing the NumPy module\n",
        "import numpy as np\n",
        "\n",
        "# Taking a list of elements\n",
        "list = [2,3,4,5,7,2]\n",
        "\n",
        "# Calculating variance using var()\n",
        "print(np.std(list))\n"
      ],
      "metadata": {
        "colab": {
          "base_uri": "https://localhost:8080/"
        },
        "id": "zIm68xOjKP4L",
        "outputId": "47f8222a-b7fc-4eed-c4d8-f61bc201374e"
      },
      "execution_count": 10,
      "outputs": [
        {
          "output_type": "stream",
          "name": "stdout",
          "text": [
            "1.7716909687891083\n"
          ]
        }
      ]
    },
    {
      "cell_type": "code",
      "source": [],
      "metadata": {
        "id": "TCDpHozKI4Rv"
      },
      "execution_count": null,
      "outputs": []
    }
  ]
}