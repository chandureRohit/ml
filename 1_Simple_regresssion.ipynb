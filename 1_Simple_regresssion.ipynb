{
  "cells": [
    {
      "cell_type": "code",
      "execution_count": null,
      "id": "44f49149",
      "metadata": {
        "id": "44f49149"
      },
      "outputs": [],
      "source": [
        "# Step 1 Load Data\n",
        "import pandas as pd\n",
        "dataset = pd.read_csv('/content/salary_data.csv')\n",
        "X = dataset.iloc[:, :-1].values\n",
        "y = dataset.iloc[:,1].values"
      ]
    },
    {
      "cell_type": "code",
      "execution_count": null,
      "id": "14318172",
      "metadata": {
        "id": "14318172"
      },
      "outputs": [],
      "source": [
        "# Step 2: Split data into training and testing\n",
        "from sklearn.model_selection import train_test_split\n",
        "X_train, X_test, y_train, y_test = train_test_split(X, y, test_size=1/3, random_state=0)"
      ]
    },
    {
      "cell_type": "code",
      "execution_count": null,
      "id": "3199e74e",
      "metadata": {
        "colab": {
          "base_uri": "https://localhost:8080/"
        },
        "id": "3199e74e",
        "outputId": "71e7fdcc-ced5-408a-8232-5c0e5bbaf9d4"
      },
      "outputs": [
        {
          "output_type": "execute_result",
          "data": {
            "text/plain": [
              "LinearRegression()"
            ]
          },
          "metadata": {},
          "execution_count": 8
        }
      ],
      "source": [
        "# Step 3: Fit Simple Linear Regression to Training Data\n",
        "from sklearn.linear_model import LinearRegression\n",
        "regressor = LinearRegression()\n",
        "regressor.fit(X_train, y_train)"
      ]
    },
    {
      "cell_type": "code",
      "execution_count": null,
      "id": "4f8ad5a4",
      "metadata": {
        "id": "4f8ad5a4"
      },
      "outputs": [],
      "source": [
        "# Step 4: Make Prediction\n",
        "y_pred = regressor.predict(X_test)"
      ]
    },
    {
      "cell_type": "code",
      "execution_count": null,
      "id": "e089204b",
      "metadata": {
        "colab": {
          "base_uri": "https://localhost:8080/",
          "height": 295
        },
        "id": "e089204b",
        "outputId": "ad9cab66-b013-4fe2-fc6b-361a3335d786"
      },
      "outputs": [
        {
          "output_type": "display_data",
          "data": {
            "text/plain": [
              "<Figure size 432x288 with 1 Axes>"
            ],
            "image/png": "[encoded data removed]"
          },
          "metadata": {
            "needs_background": "light"
          }
        }
      ],
      "source": [
        "# Step 5 - Visualize training set results\n",
        "import matplotlib.pyplot as plt\n",
        "# plot the actual data points of training set\n",
        "plt.scatter(X_train, y_train, color = 'red')\n",
        "# plot the regression line\n",
        "plt.plot(X_train, regressor.predict(X_train), color='blue')\n",
        "plt.title('Salary vs Experience (Training set)')\n",
        "plt.xlabel('Years of Experience')\n",
        "plt.ylabel('Salary')\n",
        "plt.show()"
      ]
    },
    {
      "cell_type": "code",
      "execution_count": null,
      "id": "7d3c5152",
      "metadata": {
        "colab": {
          "base_uri": "https://localhost:8080/"
        },
        "id": "7d3c5152",
        "outputId": "03510c92-a4ec-4786-d419-19a8965be31c"
      },
      "outputs": [
        {
          "output_type": "stream",
          "name": "stdout",
          "text": [
            "34725.26353790614\n",
            "[5254.22382671]\n"
          ]
        }
      ],
      "source": [
        "#step6\n",
        "print(regressor.intercept_)\n",
        "print(regressor.coef_)"
      ]
    },
    {
      "cell_type": "code",
      "execution_count": null,
      "id": "7403bc6f",
      "metadata": {
        "colab": {
          "base_uri": "https://localhost:8080/"
        },
        "id": "7403bc6f",
        "outputId": "e3d79095-7d48-49fd-ffd7-1ca383346214"
      },
      "outputs": [
        {
          "output_type": "stream",
          "name": "stdout",
          "text": [
            "X_test: [[4.]\n",
            " [2.]]\n",
            "y_test: [55749 43525]\n",
            "y_pred: [55742.15884477 45233.71119134]\n"
          ]
        }
      ],
      "source": [
        "#Step 7\n",
        "print('X_test:',X_test)\n",
        "print('y_test:',y_test)\n",
        "print('y_pred:',y_pred)"
      ]
    },
    {
      "cell_type": "code",
      "execution_count": null,
      "id": "4823faef",
      "metadata": {
        "colab": {
          "base_uri": "https://localhost:8080/"
        },
        "id": "4823faef",
        "outputId": "3f87dd36-871b-4ec6-b9fd-43f59573b067"
      },
      "outputs": [
        {
          "output_type": "stream",
          "name": "stdout",
          "text": [
            "MAE: 857.7761732851977\n",
            "MSE: 1459870.3684004685\n",
            "RMSE: 1208.2509542311434\n"
          ]
        }
      ],
      "source": [
        "#step 8\n",
        "from sklearn import metrics\n",
        "import numpy as np\n",
        "\n",
        "print('MAE:',metrics.mean_absolute_error(y_test,y_pred))\n",
        "print('MSE:',metrics.mean_squared_error(y_test,y_pred))\n",
        "print('RMSE:',np.sqrt(metrics.mean_squared_error(y_test,y_pred)))"
      ]
    }
  ],
  "metadata": {
    "kernelspec": {
      "display_name": "Python 3 (ipykernel)",
      "language": "python",
      "name": "python3"
    },
    "language_info": {
      "codemirror_mode": {
        "name": "ipython",
        "version": 3
      },
      "file_extension": ".py",
      "mimetype": "text/x-python",
      "name": "python",
      "nbconvert_exporter": "python",
      "pygments_lexer": "ipython3",
      "version": "3.9.7"
    },
    "colab": {
      "provenance": []
    }
  },
  "nbformat": 4,
  "nbformat_minor": 5
}